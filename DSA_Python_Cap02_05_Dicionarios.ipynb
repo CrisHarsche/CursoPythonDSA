{
  "cells": [
    {
      "cell_type": "markdown",
      "metadata": {
        "id": "view-in-github",
        "colab_type": "text"
      },
      "source": [
        "<a href=\"https://colab.research.google.com/github/CrisHarsche/CursoPythonDSA/blob/main/DSA_Python_Cap02_05_Dicionarios.ipynb\" target=\"_parent\"><img src=\"https://colab.research.google.com/assets/colab-badge.svg\" alt=\"Open In Colab\"/></a>"
      ]
    },
    {
      "cell_type": "markdown",
      "metadata": {
        "id": "BH6w1xQL8kfo"
      },
      "source": [
        "# <font color='blue'>Data Science Academy - Python Fundamentos - Capítulo 2</font>\n",
        "\n",
        "## Download: http://github.com/dsacademybr"
      ]
    },
    {
      "cell_type": "code",
      "execution_count": 1,
      "metadata": {
        "colab": {
          "base_uri": "https://localhost:8080/"
        },
        "id": "t-WqgY358kfr",
        "outputId": "fa99dbd3-a904-4ab1-edd2-389512ede925"
      },
      "outputs": [
        {
          "output_type": "stream",
          "name": "stdout",
          "text": [
            "Versão da Linguagem Python Usada Neste Jupyter Notebook: 3.7.12\n"
          ]
        }
      ],
      "source": [
        "# Versão da Linguagem Python\n",
        "from platform import python_version\n",
        "print('Versão da Linguagem Python Usada Neste Jupyter Notebook:', python_version())"
      ]
    },
    {
      "cell_type": "markdown",
      "metadata": {
        "id": "ljjVUALG8kfu"
      },
      "source": [
        "## Dicionários"
      ]
    },
    {
      "cell_type": "code",
      "execution_count": 2,
      "metadata": {
        "id": "G0HDAize8kfv"
      },
      "outputs": [],
      "source": [
        "# Isso é uma lista\n",
        "estudantes_lst = [\"Mateus\", 24, \"Fernanda\", 22, \"Tamires\", 26, \"Cristiano\", 25]   "
      ]
    },
    {
      "cell_type": "code",
      "execution_count": 3,
      "metadata": {
        "colab": {
          "base_uri": "https://localhost:8080/"
        },
        "id": "yhhGvwt_8kfv",
        "outputId": "cdd58272-a7f3-44ea-c654-e53a89af1b6d"
      },
      "outputs": [
        {
          "output_type": "execute_result",
          "data": {
            "text/plain": [
              "['Mateus', 24, 'Fernanda', 22, 'Tamires', 26, 'Cristiano', 25]"
            ]
          },
          "metadata": {},
          "execution_count": 3
        }
      ],
      "source": [
        "estudantes_lst"
      ]
    },
    {
      "cell_type": "code",
      "execution_count": 15,
      "metadata": {
        "id": "yNDCpuCt8kfw"
      },
      "outputs": [],
      "source": [
        "# Isso é um dicionário\n",
        "estudantes_dict = {\"Mateus\":24, \"Fernanda\":22, \"Tamires\":26, \"Cristiano\":25}"
      ]
    },
    {
      "cell_type": "code",
      "execution_count": 16,
      "metadata": {
        "colab": {
          "base_uri": "https://localhost:8080/"
        },
        "id": "IDQ56upn8kfw",
        "outputId": "fa3f32a8-c3bd-4714-97f0-eab76faa4a8e"
      },
      "outputs": [
        {
          "output_type": "execute_result",
          "data": {
            "text/plain": [
              "{'Cristiano': 25, 'Fernanda': 22, 'Mateus': 24, 'Tamires': 26}"
            ]
          },
          "metadata": {},
          "execution_count": 16
        }
      ],
      "source": [
        "estudantes_dict "
      ]
    },
    {
      "cell_type": "code",
      "execution_count": 6,
      "metadata": {
        "colab": {
          "base_uri": "https://localhost:8080/"
        },
        "id": "H6oCUHk38kfx",
        "outputId": "70e5d694-22ba-416e-a8ce-711ba6f082d9"
      },
      "outputs": [
        {
          "output_type": "execute_result",
          "data": {
            "text/plain": [
              "24"
            ]
          },
          "metadata": {},
          "execution_count": 6
        }
      ],
      "source": [
        "estudantes_dict[\"Mateus\"]"
      ]
    },
    {
      "cell_type": "code",
      "execution_count": 7,
      "metadata": {
        "id": "TCmqbnqx8kfx"
      },
      "outputs": [],
      "source": [
        "estudantes_dict[\"Pedro\"] = 23"
      ]
    },
    {
      "cell_type": "code",
      "execution_count": 8,
      "metadata": {
        "colab": {
          "base_uri": "https://localhost:8080/"
        },
        "id": "GphgYbix8kfy",
        "outputId": "d9fd70d6-2af2-4347-c19b-f56bc23fcd5c"
      },
      "outputs": [
        {
          "output_type": "execute_result",
          "data": {
            "text/plain": [
              "23"
            ]
          },
          "metadata": {},
          "execution_count": 8
        }
      ],
      "source": [
        "estudantes_dict[\"Pedro\"]"
      ]
    },
    {
      "cell_type": "code",
      "execution_count": 9,
      "metadata": {
        "colab": {
          "base_uri": "https://localhost:8080/"
        },
        "id": "csNAjRBf8kfz",
        "outputId": "21b2d45c-274d-4fc0-9837-f88579edbe1c"
      },
      "outputs": [
        {
          "output_type": "execute_result",
          "data": {
            "text/plain": [
              "26"
            ]
          },
          "metadata": {},
          "execution_count": 9
        }
      ],
      "source": [
        "estudantes_dict[\"Tamires\"]"
      ]
    },
    {
      "cell_type": "code",
      "execution_count": 10,
      "metadata": {
        "id": "jEZfP6r28kf0"
      },
      "outputs": [],
      "source": [
        "estudantes_dict.clear()"
      ]
    },
    {
      "cell_type": "code",
      "execution_count": 11,
      "metadata": {
        "colab": {
          "base_uri": "https://localhost:8080/"
        },
        "id": "Tk_7Il278kf0",
        "outputId": "d6ebe0ab-634d-4de6-ac50-48e4323a4226"
      },
      "outputs": [
        {
          "output_type": "execute_result",
          "data": {
            "text/plain": [
              "{}"
            ]
          },
          "metadata": {},
          "execution_count": 11
        }
      ],
      "source": [
        "estudantes_dict"
      ]
    },
    {
      "cell_type": "code",
      "execution_count": 12,
      "metadata": {
        "id": "w4zEMt2l8kf1"
      },
      "outputs": [],
      "source": [
        "del estudantes_dict"
      ]
    },
    {
      "cell_type": "code",
      "execution_count": 13,
      "metadata": {
        "colab": {
          "base_uri": "https://localhost:8080/",
          "height": 172
        },
        "id": "AGtM1LvW8kf2",
        "outputId": "228a3432-89db-4753-8972-aaee966d3238"
      },
      "outputs": [
        {
          "output_type": "error",
          "ename": "NameError",
          "evalue": "ignored",
          "traceback": [
            "\u001b[0;31m---------------------------------------------------------------------------\u001b[0m",
            "\u001b[0;31mNameError\u001b[0m                                 Traceback (most recent call last)",
            "\u001b[0;32m<ipython-input-13-29b87ec1321c>\u001b[0m in \u001b[0;36m<module>\u001b[0;34m()\u001b[0m\n\u001b[0;32m----> 1\u001b[0;31m \u001b[0mestudantes_dict\u001b[0m\u001b[0;34m\u001b[0m\u001b[0;34m\u001b[0m\u001b[0m\n\u001b[0m",
            "\u001b[0;31mNameError\u001b[0m: name 'estudantes_dict' is not defined"
          ]
        }
      ],
      "source": [
        "estudantes_dict"
      ]
    },
    {
      "cell_type": "code",
      "execution_count": 17,
      "metadata": {
        "id": "bVpnGHeP8kf2"
      },
      "outputs": [],
      "source": [
        "estudantes = {\"Mateus\":24, \"Fernanda\":22, \"Tamires\":26, \"Cristiano\":25}"
      ]
    },
    {
      "cell_type": "code",
      "execution_count": 18,
      "metadata": {
        "colab": {
          "base_uri": "https://localhost:8080/"
        },
        "id": "n4uwLyrt8kf3",
        "outputId": "dff62dcf-e962-4549-9832-de617ba65aee"
      },
      "outputs": [
        {
          "output_type": "execute_result",
          "data": {
            "text/plain": [
              "{'Cristiano': 25, 'Fernanda': 22, 'Mateus': 24, 'Tamires': 26}"
            ]
          },
          "metadata": {},
          "execution_count": 18
        }
      ],
      "source": [
        "estudantes"
      ]
    },
    {
      "cell_type": "code",
      "execution_count": 19,
      "metadata": {
        "colab": {
          "base_uri": "https://localhost:8080/"
        },
        "id": "RZDB2_Iw8kf4",
        "outputId": "520f6f02-8f50-439c-982f-2801c66c52ce"
      },
      "outputs": [
        {
          "output_type": "execute_result",
          "data": {
            "text/plain": [
              "4"
            ]
          },
          "metadata": {},
          "execution_count": 19
        }
      ],
      "source": [
        "len(estudantes)"
      ]
    },
    {
      "cell_type": "code",
      "execution_count": 20,
      "metadata": {
        "colab": {
          "base_uri": "https://localhost:8080/"
        },
        "id": "2QRrWrlP8kf4",
        "outputId": "2e6ea280-0d34-45c5-931e-a1d84cba62fa"
      },
      "outputs": [
        {
          "output_type": "execute_result",
          "data": {
            "text/plain": [
              "dict_keys(['Mateus', 'Fernanda', 'Tamires', 'Cristiano'])"
            ]
          },
          "metadata": {},
          "execution_count": 20
        }
      ],
      "source": [
        "estudantes.keys()"
      ]
    },
    {
      "cell_type": "code",
      "execution_count": 21,
      "metadata": {
        "colab": {
          "base_uri": "https://localhost:8080/"
        },
        "id": "FDBZAeTK8kf5",
        "outputId": "0fa29c23-587e-4b19-deae-ff9f35aa6e18"
      },
      "outputs": [
        {
          "output_type": "execute_result",
          "data": {
            "text/plain": [
              "dict_values([24, 22, 26, 25])"
            ]
          },
          "metadata": {},
          "execution_count": 21
        }
      ],
      "source": [
        "estudantes.values()"
      ]
    },
    {
      "cell_type": "code",
      "execution_count": 22,
      "metadata": {
        "colab": {
          "base_uri": "https://localhost:8080/"
        },
        "id": "OwYtzMzl8kf5",
        "outputId": "808a3526-df6f-418e-95d1-cda2b3500557"
      },
      "outputs": [
        {
          "output_type": "execute_result",
          "data": {
            "text/plain": [
              "dict_items([('Mateus', 24), ('Fernanda', 22), ('Tamires', 26), ('Cristiano', 25)])"
            ]
          },
          "metadata": {},
          "execution_count": 22
        }
      ],
      "source": [
        "estudantes.items()"
      ]
    },
    {
      "cell_type": "code",
      "execution_count": 23,
      "metadata": {
        "id": "ijMexWdf8kf6"
      },
      "outputs": [],
      "source": [
        "estudantes2 = {\"Maria\":27, \"Erika\":28, \"Milton\":26}"
      ]
    },
    {
      "cell_type": "code",
      "execution_count": 24,
      "metadata": {
        "colab": {
          "base_uri": "https://localhost:8080/"
        },
        "id": "N1lISIs18kf6",
        "outputId": "7c8b9d1d-4d6b-4cbf-fef6-7a01119b398b"
      },
      "outputs": [
        {
          "output_type": "execute_result",
          "data": {
            "text/plain": [
              "{'Erika': 28, 'Maria': 27, 'Milton': 26}"
            ]
          },
          "metadata": {},
          "execution_count": 24
        }
      ],
      "source": [
        "estudantes2"
      ]
    },
    {
      "cell_type": "code",
      "execution_count": 25,
      "metadata": {
        "id": "miVYAQ4z8kf6"
      },
      "outputs": [],
      "source": [
        "estudantes.update(estudantes2)"
      ]
    },
    {
      "cell_type": "code",
      "execution_count": 26,
      "metadata": {
        "colab": {
          "base_uri": "https://localhost:8080/"
        },
        "id": "am9RnJd58kf6",
        "outputId": "17996ebe-3597-415a-8004-4a2f7c2d3332"
      },
      "outputs": [
        {
          "output_type": "execute_result",
          "data": {
            "text/plain": [
              "{'Cristiano': 25,\n",
              " 'Erika': 28,\n",
              " 'Fernanda': 22,\n",
              " 'Maria': 27,\n",
              " 'Mateus': 24,\n",
              " 'Milton': 26,\n",
              " 'Tamires': 26}"
            ]
          },
          "metadata": {},
          "execution_count": 26
        }
      ],
      "source": [
        "estudantes"
      ]
    },
    {
      "cell_type": "code",
      "execution_count": 27,
      "metadata": {
        "id": "_-JTWDp-8kf7"
      },
      "outputs": [],
      "source": [
        "dic1 = {}"
      ]
    },
    {
      "cell_type": "code",
      "execution_count": 28,
      "metadata": {
        "colab": {
          "base_uri": "https://localhost:8080/"
        },
        "id": "XYA8NOS78kf7",
        "outputId": "825c7d7b-73eb-43c4-eea1-279738ecf62a"
      },
      "outputs": [
        {
          "output_type": "execute_result",
          "data": {
            "text/plain": [
              "{}"
            ]
          },
          "metadata": {},
          "execution_count": 28
        }
      ],
      "source": [
        "dic1"
      ]
    },
    {
      "cell_type": "code",
      "execution_count": 29,
      "metadata": {
        "id": "GZ3eYE7K8kf7"
      },
      "outputs": [],
      "source": [
        "dic1[\"key_one\"] = 2"
      ]
    },
    {
      "cell_type": "code",
      "execution_count": 30,
      "metadata": {
        "colab": {
          "base_uri": "https://localhost:8080/"
        },
        "id": "Senaoged8kf7",
        "outputId": "7dcdb8cf-0fe1-4950-b9d0-3285efa6080e"
      },
      "outputs": [
        {
          "output_type": "stream",
          "name": "stdout",
          "text": [
            "{'key_one': 2}\n"
          ]
        }
      ],
      "source": [
        "print(dic1)"
      ]
    },
    {
      "cell_type": "code",
      "execution_count": 31,
      "metadata": {
        "id": "ipdJw0cs8kf8"
      },
      "outputs": [],
      "source": [
        "dic1[10] = 5"
      ]
    },
    {
      "cell_type": "code",
      "execution_count": 32,
      "metadata": {
        "colab": {
          "base_uri": "https://localhost:8080/"
        },
        "id": "bRJJ-0Zd8kf8",
        "outputId": "0e1621e7-7444-4955-fd1c-5f37b1814fb0"
      },
      "outputs": [
        {
          "output_type": "execute_result",
          "data": {
            "text/plain": [
              "{10: 5, 'key_one': 2}"
            ]
          },
          "metadata": {},
          "execution_count": 32
        }
      ],
      "source": [
        "dic1"
      ]
    },
    {
      "cell_type": "code",
      "execution_count": 33,
      "metadata": {
        "id": "leegfJZ38kf8"
      },
      "outputs": [],
      "source": [
        "dic1[8.2] = \"Python\""
      ]
    },
    {
      "cell_type": "code",
      "execution_count": 34,
      "metadata": {
        "colab": {
          "base_uri": "https://localhost:8080/"
        },
        "id": "KUT8hUil8kf8",
        "outputId": "16320896-233d-49ec-b5ec-f6a0340d6fa4"
      },
      "outputs": [
        {
          "output_type": "execute_result",
          "data": {
            "text/plain": [
              "{10: 5, 8.2: 'Python', 'key_one': 2}"
            ]
          },
          "metadata": {},
          "execution_count": 34
        }
      ],
      "source": [
        "dic1"
      ]
    },
    {
      "cell_type": "code",
      "execution_count": 35,
      "metadata": {
        "id": "tT2kU9ZS8kf8"
      },
      "outputs": [],
      "source": [
        "dic1[\"teste\"] = 5"
      ]
    },
    {
      "cell_type": "code",
      "execution_count": 36,
      "metadata": {
        "colab": {
          "base_uri": "https://localhost:8080/"
        },
        "id": "xdj1pDaj8kf9",
        "outputId": "9d9f39a7-fa1a-4a69-a1e1-00c64789b312"
      },
      "outputs": [
        {
          "output_type": "execute_result",
          "data": {
            "text/plain": [
              "{10: 5, 8.2: 'Python', 'key_one': 2, 'teste': 5}"
            ]
          },
          "metadata": {},
          "execution_count": 36
        }
      ],
      "source": [
        "dic1"
      ]
    },
    {
      "cell_type": "code",
      "execution_count": 37,
      "metadata": {
        "id": "Ph4Xc9nP8kf9"
      },
      "outputs": [],
      "source": [
        "dict1 = {}"
      ]
    },
    {
      "cell_type": "code",
      "execution_count": 38,
      "metadata": {
        "colab": {
          "base_uri": "https://localhost:8080/"
        },
        "id": "YUIgooAr8kf9",
        "outputId": "7f0cd14a-5e7b-478d-ac6a-36865b5ff644"
      },
      "outputs": [
        {
          "output_type": "execute_result",
          "data": {
            "text/plain": [
              "{}"
            ]
          },
          "metadata": {},
          "execution_count": 38
        }
      ],
      "source": [
        "dict1"
      ]
    },
    {
      "cell_type": "code",
      "execution_count": 39,
      "metadata": {
        "id": "HPTDCLNz8kf9"
      },
      "outputs": [],
      "source": [
        "dict1[\"teste\"] = 10"
      ]
    },
    {
      "cell_type": "code",
      "execution_count": 40,
      "metadata": {
        "id": "SmnSzCqj8kf-"
      },
      "outputs": [],
      "source": [
        "dict1[\"key\"] = \"teste\""
      ]
    },
    {
      "cell_type": "code",
      "execution_count": 41,
      "metadata": {
        "colab": {
          "base_uri": "https://localhost:8080/"
        },
        "id": "6P43jVSH8kf-",
        "outputId": "1417b086-be93-4fd9-b5f8-37bf90c34409"
      },
      "outputs": [
        {
          "output_type": "execute_result",
          "data": {
            "text/plain": [
              "{'key': 'teste', 'teste': 10}"
            ]
          },
          "metadata": {},
          "execution_count": 41
        }
      ],
      "source": [
        "# Atenção, pois chave e valor podem ser iguais, mas representam coisas diferentes.\n",
        "dict1"
      ]
    },
    {
      "cell_type": "code",
      "execution_count": 42,
      "metadata": {
        "id": "3VQwo4so8kf-"
      },
      "outputs": [],
      "source": [
        "dict2 = {}"
      ]
    },
    {
      "cell_type": "code",
      "execution_count": 43,
      "metadata": {
        "id": "WL3_QFs28kf-"
      },
      "outputs": [],
      "source": [
        "dict2[\"key1\"] = \"Big Data\""
      ]
    },
    {
      "cell_type": "code",
      "execution_count": 44,
      "metadata": {
        "id": "oE2l1a0i8kf-"
      },
      "outputs": [],
      "source": [
        "dict2[\"key2\"] = 10"
      ]
    },
    {
      "cell_type": "code",
      "execution_count": 45,
      "metadata": {
        "id": "62uu8Tyx8kf_"
      },
      "outputs": [],
      "source": [
        "dict2[\"key3\"] = 5.6"
      ]
    },
    {
      "cell_type": "code",
      "execution_count": 46,
      "metadata": {
        "colab": {
          "base_uri": "https://localhost:8080/"
        },
        "id": "m0KVMKoA8kf_",
        "outputId": "48249c70-5b93-4853-a068-c13c7604cc45"
      },
      "outputs": [
        {
          "output_type": "execute_result",
          "data": {
            "text/plain": [
              "{'key1': 'Big Data', 'key2': 10, 'key3': 5.6}"
            ]
          },
          "metadata": {},
          "execution_count": 46
        }
      ],
      "source": [
        "dict2"
      ]
    },
    {
      "cell_type": "code",
      "execution_count": 47,
      "metadata": {
        "id": "ps8knrGD8kf_"
      },
      "outputs": [],
      "source": [
        "a = dict2[\"key1\"]"
      ]
    },
    {
      "cell_type": "code",
      "execution_count": 48,
      "metadata": {
        "id": "O107fBny8kf_"
      },
      "outputs": [],
      "source": [
        "b = dict2[\"key2\"]"
      ]
    },
    {
      "cell_type": "code",
      "execution_count": 49,
      "metadata": {
        "id": "eAniA-yd8kgA"
      },
      "outputs": [],
      "source": [
        "c = dict2[\"key3\"]"
      ]
    },
    {
      "cell_type": "code",
      "execution_count": 50,
      "metadata": {
        "colab": {
          "base_uri": "https://localhost:8080/"
        },
        "id": "4HntMjnK8kgA",
        "outputId": "c32c041c-a9a9-4c3c-fc83-80a174fc1924"
      },
      "outputs": [
        {
          "output_type": "execute_result",
          "data": {
            "text/plain": [
              "('Big Data', 10, 5.6)"
            ]
          },
          "metadata": {},
          "execution_count": 50
        }
      ],
      "source": [
        "a, b, c"
      ]
    },
    {
      "cell_type": "code",
      "execution_count": 51,
      "metadata": {
        "id": "ImVl715g8kgA"
      },
      "outputs": [],
      "source": [
        "# Dicionário de listas\n",
        "dict3 = {'key1':1230,'key2':[22,453,73.4],'key3':['leite','maça','batata']}"
      ]
    },
    {
      "cell_type": "code",
      "execution_count": 52,
      "metadata": {
        "colab": {
          "base_uri": "https://localhost:8080/"
        },
        "id": "RUjOadBE8kgA",
        "outputId": "dbdd945b-dced-4b6d-9e75-c3c9ff3b229e"
      },
      "outputs": [
        {
          "output_type": "execute_result",
          "data": {
            "text/plain": [
              "{'key1': 1230, 'key2': [22, 453, 73.4], 'key3': ['leite', 'maça', 'batata']}"
            ]
          },
          "metadata": {},
          "execution_count": 52
        }
      ],
      "source": [
        "dict3"
      ]
    },
    {
      "cell_type": "code",
      "execution_count": 53,
      "metadata": {
        "colab": {
          "base_uri": "https://localhost:8080/"
        },
        "id": "FINtks838kgB",
        "outputId": "2aa93752-6454-4a13-a7a8-c5793c45f10f"
      },
      "outputs": [
        {
          "output_type": "execute_result",
          "data": {
            "text/plain": [
              "[22, 453, 73.4]"
            ]
          },
          "metadata": {},
          "execution_count": 53
        }
      ],
      "source": [
        "dict3['key2']"
      ]
    },
    {
      "cell_type": "code",
      "execution_count": 54,
      "metadata": {
        "colab": {
          "base_uri": "https://localhost:8080/",
          "height": 36
        },
        "id": "cg24Ejyy8kgB",
        "outputId": "1d457e32-3465-4d77-e1c9-8cde212c9193"
      },
      "outputs": [
        {
          "output_type": "execute_result",
          "data": {
            "application/vnd.google.colaboratory.intrinsic+json": {
              "type": "string"
            },
            "text/plain": [
              "'LEITE'"
            ]
          },
          "metadata": {},
          "execution_count": 54
        }
      ],
      "source": [
        "# Acessando um item da lista, dentro do dicionário\n",
        "dict3['key3'][0].upper()"
      ]
    },
    {
      "cell_type": "code",
      "execution_count": 55,
      "metadata": {
        "id": "z1YubkU68kgC"
      },
      "outputs": [],
      "source": [
        "# Operações com itens da lista, dentro do dicionário\n",
        "var1 = dict3['key2'][0] - 2"
      ]
    },
    {
      "cell_type": "code",
      "execution_count": 56,
      "metadata": {
        "colab": {
          "base_uri": "https://localhost:8080/"
        },
        "id": "DZyyMcZz8kgC",
        "outputId": "cd3adda0-77e5-4a59-c387-61b10b133326"
      },
      "outputs": [
        {
          "output_type": "execute_result",
          "data": {
            "text/plain": [
              "20"
            ]
          },
          "metadata": {},
          "execution_count": 56
        }
      ],
      "source": [
        "var1"
      ]
    },
    {
      "cell_type": "code",
      "execution_count": 57,
      "metadata": {
        "id": "OPXGeG9K8kgC"
      },
      "outputs": [],
      "source": [
        "# Duas operações no mesmo comando, para atualizar um item dentro da lista\n",
        "dict3['key2'][0] -= 2"
      ]
    },
    {
      "cell_type": "code",
      "execution_count": 58,
      "metadata": {
        "colab": {
          "base_uri": "https://localhost:8080/"
        },
        "id": "GNrF1I_88kgD",
        "outputId": "1404d419-84b7-4650-c89b-aef45771e82c"
      },
      "outputs": [
        {
          "output_type": "execute_result",
          "data": {
            "text/plain": [
              "{'key1': 1230, 'key2': [20, 453, 73.4], 'key3': ['leite', 'maça', 'batata']}"
            ]
          },
          "metadata": {},
          "execution_count": 58
        }
      ],
      "source": [
        "dict3"
      ]
    },
    {
      "cell_type": "markdown",
      "metadata": {
        "id": "Nt3iGnSn8kgD"
      },
      "source": [
        "### Criando dicionários aninhados"
      ]
    },
    {
      "cell_type": "code",
      "execution_count": 59,
      "metadata": {
        "id": "HpzcbzqW8kgD"
      },
      "outputs": [],
      "source": [
        "# Criando dicionários aninhados\n",
        "dict_aninhado = {'key1':{'key2_aninhada':{'key3_aninhada':'Dict aninhado em Python'}}}"
      ]
    },
    {
      "cell_type": "code",
      "execution_count": 60,
      "metadata": {
        "colab": {
          "base_uri": "https://localhost:8080/"
        },
        "id": "Xj6IlYdB8kgD",
        "outputId": "3ee4cd5c-fdb3-4dfe-9d2b-07391f84e7f7"
      },
      "outputs": [
        {
          "output_type": "execute_result",
          "data": {
            "text/plain": [
              "{'key1': {'key2_aninhada': {'key3_aninhada': 'Dict aninhado em Python'}}}"
            ]
          },
          "metadata": {},
          "execution_count": 60
        }
      ],
      "source": [
        "dict_aninhado"
      ]
    },
    {
      "cell_type": "code",
      "execution_count": 61,
      "metadata": {
        "colab": {
          "base_uri": "https://localhost:8080/",
          "height": 36
        },
        "id": "ETia9hso8kgE",
        "outputId": "2612d828-5f6c-4f43-f223-9c3f43dc8a1d"
      },
      "outputs": [
        {
          "output_type": "execute_result",
          "data": {
            "application/vnd.google.colaboratory.intrinsic+json": {
              "type": "string"
            },
            "text/plain": [
              "'Dict aninhado em Python'"
            ]
          },
          "metadata": {},
          "execution_count": 61
        }
      ],
      "source": [
        "dict_aninhado['key1']['key2_aninhada']['key3_aninhada']"
      ]
    },
    {
      "cell_type": "markdown",
      "metadata": {
        "id": "r2ZLic918kgE"
      },
      "source": [
        "# Fim"
      ]
    },
    {
      "cell_type": "markdown",
      "metadata": {
        "id": "IGZ0DdIe8kgE"
      },
      "source": [
        "### Obrigado\n",
        "\n",
        "### Visite o Blog da Data Science Academy - <a href=\"http://blog.dsacademy.com.br\">Blog DSA</a>"
      ]
    }
  ],
  "metadata": {
    "anaconda-cloud": {},
    "kernelspec": {
      "display_name": "Python 3",
      "language": "python",
      "name": "python3"
    },
    "language_info": {
      "codemirror_mode": {
        "name": "ipython",
        "version": 3
      },
      "file_extension": ".py",
      "mimetype": "text/x-python",
      "name": "python",
      "nbconvert_exporter": "python",
      "pygments_lexer": "ipython3",
      "version": "3.8.8"
    },
    "colab": {
      "name": "DSA-Python-Cap02-05-Dicionarios.ipynb",
      "provenance": [],
      "include_colab_link": true
    }
  },
  "nbformat": 4,
  "nbformat_minor": 0
}